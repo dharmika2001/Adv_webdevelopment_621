{
 "cells": [
  {
   "cell_type": "code",
   "execution_count": 1,
   "metadata": {},
   "outputs": [
    {
     "name": "stdout",
     "output_type": "stream",
     "text": [
      "Requirement already satisfied: requests in c:\\users\\dell\\anaconda3\\envs\\cs685\\lib\\site-packages (2.24.0)\n",
      "Requirement already satisfied: urllib3!=1.25.0,!=1.25.1,<1.26,>=1.21.1 in c:\\users\\dell\\anaconda3\\envs\\cs685\\lib\\site-packages (from requests) (1.25.9)\n",
      "Requirement already satisfied: idna<3,>=2.5 in c:\\users\\dell\\anaconda3\\envs\\cs685\\lib\\site-packages (from requests) (2.10)\n",
      "Requirement already satisfied: certifi>=2017.4.17 in c:\\users\\dell\\anaconda3\\envs\\cs685\\lib\\site-packages (from requests) (2020.6.20)\n",
      "Requirement already satisfied: chardet<4,>=3.0.2 in c:\\users\\dell\\anaconda3\\envs\\cs685\\lib\\site-packages (from requests) (3.0.4)\n",
      "Note: you may need to restart the kernel to use updated packages.\n"
     ]
    },
    {
     "name": "stderr",
     "output_type": "stream",
     "text": [
      "WARNING: Ignoring invalid distribution -umpy (c:\\users\\dell\\anaconda3\\envs\\cs685\\lib\\site-packages)\n",
      "WARNING: Ignoring invalid distribution -umpy (c:\\users\\dell\\anaconda3\\envs\\cs685\\lib\\site-packages)\n",
      "WARNING: Ignoring invalid distribution -umpy (c:\\users\\dell\\anaconda3\\envs\\cs685\\lib\\site-packages)\n"
     ]
    }
   ],
   "source": [
    "pip install requests\n"
   ]
  },
  {
   "cell_type": "code",
   "execution_count": 2,
   "metadata": {},
   "outputs": [
    {
     "name": "stdout",
     "output_type": "stream",
     "text": [
      "[{'id': 1, 'problem': '3 + 5?'}, {'id': 2, 'problem': '7 * 6?'}, {'id': 3, 'problem': '20 / 5?'}, {'id': 4, 'problem': '20 / 4?'}, {'id': 5, 'problem': '15 - 7?'}, {'id': 6, 'problem': '9 * 9?'}, {'id': 7, 'problem': '27 / 9?'}, {'id': 8, 'problem': '100 - 56?'}, {'id': 9, 'problem': '14 + 26?'}, {'id': 10, 'problem': '64 / 8?'}]\n"
     ]
    }
   ],
   "source": [
    "import requests\n",
    "import json\n",
    "url = \"https://michaelgathara.com/api/python-challenge\"\n",
    "response = requests.get(url)\n",
    "challenges = response.json()\n",
    "print(challenges)\n"
   ]
  },
  {
   "cell_type": "code",
   "execution_count": 12,
   "metadata": {},
   "outputs": [
    {
     "name": "stdout",
     "output_type": "stream",
     "text": [
      "name:[NAGA DHARMIKA KANDERI]\n",
      "blazerid:[NKANDERI]\n",
      "[{'id': 1, 'problem': '3 + 5?'}, {'id': 2, 'problem': '7 * 6?'}, {'id': 3, 'problem': '20 / 5?'}, {'id': 4, 'problem': '20 / 4?'}, {'id': 5, 'problem': '15 - 7?'}, {'id': 6, 'problem': '9 * 9?'}, {'id': 7, 'problem': '27 / 9?'}, {'id': 8, 'problem': '100 - 56?'}, {'id': 9, 'problem': '14 + 26?'}, {'id': 10, 'problem': '64 / 8?'}]\n",
      "The answer to problem 1 (3 + 5?) is: 8\n",
      "RESULT[1] FOR THE GIVEN QUESTION [3 + 5?] IS: [8]\n",
      "The answer to problem 2 (7 * 6?) is: 42\n",
      "RESULT[2] FOR THE GIVEN QUESTION [7 * 6?] IS: [42]\n",
      "The answer to problem 3 (20 / 5?) is: 4.0\n",
      "RESULT[3] FOR THE GIVEN QUESTION [20 / 5?] IS: [4]\n",
      "The answer to problem 4 (20 / 4?) is: 5.0\n",
      "RESULT[4] FOR THE GIVEN QUESTION [20 / 4?] IS: [5]\n",
      "The answer to problem 5 (15 - 7?) is: 8\n",
      "RESULT[5] FOR THE GIVEN QUESTION [15 - 7?] IS: [8]\n",
      "The answer to problem 6 (9 * 9?) is: 81\n",
      "RESULT[6] FOR THE GIVEN QUESTION [9 * 9?] IS: [81]\n",
      "The answer to problem 7 (27 / 9?) is: 3.0\n",
      "RESULT[7] FOR THE GIVEN QUESTION [27 / 9?] IS: [3]\n",
      "The answer to problem 8 (100 - 56?) is: 44\n",
      "RESULT[8] FOR THE GIVEN QUESTION [100 - 56?] IS: [44]\n",
      "The answer to problem 9 (14 + 26?) is: 40\n",
      "RESULT[9] FOR THE GIVEN QUESTION [14 + 26?] IS: [40]\n",
      "The answer to problem 10 (64 / 8?) is: 8.0\n",
      "RESULT[10] FOR THE GIVEN QUESTION [64 / 8?] IS: [8]\n"
     ]
    }
   ],
   "source": [
    "import requests\n",
    "import math\n",
    "import json\n",
    "\n",
    "    \n",
    "print(\"name:[NAGA DHARMIKA KANDERI]\")\n",
    "print(\"blazerid:[NKANDERI]\")\n",
    "\n",
    "def python_homework(problems):\n",
    "    \n",
    "    for problem in problems:\n",
    "        exp_id,question,operator = problem['id'],problem['problem'],None\n",
    "        \n",
    "        symbols = ['+','-','*','/']\n",
    "        for op in symbols:\n",
    "            if op in question:\n",
    "                operator = op\n",
    "                break\n",
    "\n",
    "        if operator is None:\n",
    "            print(f\"question {exp_id}: {question} cannot be solved\")\n",
    "            continue\n",
    "        elif operator is \"\":\n",
    "            print(f\"question {exp_id}:{question}cannot be determined\")\n",
    "            continue\n",
    "        elif operator is -1:\n",
    "            print(f\"question {exp_id}:{question}cannot be determined\")\n",
    "            continue\n",
    "        else:\n",
    "            operands = question.split(operator)\n",
    "            op1 = int(''.join([char for char in operands[0].strip() if char.isdigit()]))\n",
    "            op2 = int(''.join([char for char in operands[1].strip() if char.isdigit()]))\n",
    "# if statements to choose the operator\n",
    "# else if the operation cannot be determined in the expression\n",
    "        \n",
    "        if operator == '+':\n",
    "            output = op1 + op2\n",
    "        elif operator == '-':\n",
    "            output = op1 - op2\n",
    "        elif operator == '*':\n",
    "            output = op1 * op2\n",
    "        elif operator == '/':\n",
    "            output = op1 / op2\n",
    "        else:\n",
    "            print(f\"cannot be determined\")\n",
    "#to print the output \n",
    "        print(f\"The answer to problem {exp_id} ({question}) is: {output}\")\n",
    "        \n",
    "        #math.floor to round off to integer values\n",
    "        result = math.floor(output)\n",
    "        print(f\"RESULT[{exp_id}] FOR THE GIVEN QUESTION [{question}] IS: [{result}]\")\n",
    "#main block to be indented outside python_challenges to avoid indentation errors\n",
    "url = \"https://michaelgathara.com/api/python-challenge\"\n",
    "response = requests.get(url)\n",
    "challenges = response.json()\n",
    "print(challenges)\n",
    "python_homework(challenges)\n",
    "    "
   ]
  },
  {
   "cell_type": "code",
   "execution_count": null,
   "metadata": {},
   "outputs": [],
   "source": []
  }
 ],
 "metadata": {
  "kernelspec": {
   "display_name": "Python 3",
   "language": "python",
   "name": "python3"
  },
  "language_info": {
   "codemirror_mode": {
    "name": "ipython",
    "version": 3
   },
   "file_extension": ".py",
   "mimetype": "text/x-python",
   "name": "python",
   "nbconvert_exporter": "python",
   "pygments_lexer": "ipython3",
   "version": "3.6.10"
  }
 },
 "nbformat": 4,
 "nbformat_minor": 4
}
